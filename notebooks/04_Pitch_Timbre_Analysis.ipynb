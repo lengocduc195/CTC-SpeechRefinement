{
 "cells": [
  {
   "cell_type": "markdown",
   "metadata": {},
   "source": [
    "# Pitch and Timbre Analysis\n",
    "\n",
    "This notebook demonstrates how to analyze pitch and timbre characteristics of audio files using the CTC-SpeechRefinement package. We'll explore various features related to pitch (fundamental frequency) and timbre (sound quality) that are important for speech analysis."
   ]
  },
  {
   "cell_type": "markdown",
   "metadata": {},
   "source": [
    "## Setup\n",
    "\n",
    "First, let's import the necessary libraries and set up the environment."
   ]
  },
  {
   "cell_type": "code",
   "execution_count": null,
   "metadata": {},
   "outputs": [],
   "source": [
    "# Add the project root to the Python path\n",
    "import sys\n",
    "import os\n",
    "sys.path.append(os.path.abspath('..'))\n",
    "\n",
    "# Import libraries\n",
    "import numpy as np\n",
    "import matplotlib.pyplot as plt\n",
    "import librosa\n",
    "import librosa.display\n",
    "import pandas as pd\n",
    "import seaborn as sns\n",
    "from IPython.display import Audio, display\n",
    "import glob\n",
    "from pathlib import Path\n",
    "\n",
    "# Import from the project\n",
    "from ctc_speech_refinement.core.preprocessing.audio import preprocess_audio\n",
    "from ctc_speech_refinement.core.eda.pitch_timbre import analyze_pitch_timbre\n",
    "\n",
    "# Set up plotting\n",
    "plt.style.use('seaborn-v0_8-whitegrid')\n",
    "plt.rcParams['figure.figsize'] = (12, 6)\n",
    "plt.rcParams['figure.dpi'] = 100"
   ]
  },
  {
   "cell_type": "markdown",
   "metadata": {},
   "source": [
    "## Load Audio Data\n",
    "\n",
    "Let's load an audio file and examine its basic properties."
   ]
  },
  {
   "cell_type": "code",
   "execution_count": null,
   "metadata": {},
   "outputs": [],
   "source": [
    "# Define the path to an audio file\n",
    "audio_file = \"../data/test1/test1_01.wav\"  # Update this path to your audio file\n",
    "\n",
    "# Load the audio file\n",
    "audio_data, sample_rate = librosa.load(audio_file, sr=None)\n",
    "\n",
    "# Print basic information\n",
    "print(f\"Audio file: {audio_file}\")\n",
    "print(f\"Sample rate: {sample_rate} Hz\")\n",
    "print(f\"Duration: {len(audio_data) / sample_rate:.2f} seconds\")\n",
    "print(f\"Number of samples: {len(audio_data)}\")\n",
    "\n",
    "# Play the audio\n",
    "display(Audio(audio_data, rate=sample_rate))"
   ]
  },
  {
   "cell_type": "markdown",
   "metadata": {},
   "source": [
    "## 1. Pitch Analysis\n",
    "\n",
    "Let's analyze the pitch (fundamental frequency) of the audio signal."
   ]
  },
  {
   "cell_type": "code",
   "execution_count": null,
   "metadata": {},
   "outputs": [],
   "source": [
    "# Compute pitch using librosa's piptrack\n",
    "n_fft = 2048\n",
    "hop_length = 512\n",
    "pitches, magnitudes = librosa.piptrack(y=audio_data, sr=sample_rate, n_fft=n_fft, hop_length=hop_length)\n",
    "pitch_times = librosa.times_like(pitches[0], sr=sample_rate, hop_length=hop_length)\n",
    "\n",
    "# Extract the pitch with highest magnitude at each time\n",
    "pitch = []\n",
    "for t in range(pitches.shape[1]):\n",
    "    index = magnitudes[:, t].argmax()\n",
    "    pitch.append(pitches[index, t])\n",
    "\n",
    "# Plot pitch\n",
    "plt.figure(figsize=(14, 5))\n",
    "plt.semilogy(pitch_times, pitch)\n",
    "plt.title('Pitch (Fundamental Frequency)')\n",
    "plt.xlabel('Time (s)')\n",
    "plt.ylabel('Frequency (Hz)')\n",
    "plt.tight_layout()\n",
    "plt.show()"
   ]
  },
  {
   "cell_type": "code",
   "execution_count": null,
   "metadata": {},
   "outputs": [],
   "source": [
    "# Compute pitch using PYIN algorithm\n",
    "f0, voiced_flag, voiced_probs = librosa.pyin(audio_data, fmin=librosa.note_to_hz('C2'), fmax=librosa.note_to_hz('C7'), sr=sample_rate)\n",
    "f0_times = librosa.times_like(f0, sr=sample_rate)\n",
    "\n",
    "# Plot PYIN pitch\n",
    "plt.figure(figsize=(14, 5))\n",
    "plt.semilogy(f0_times, f0, label='f0')\n",
    "plt.title('Pitch (PYIN Algorithm)')\n",
    "plt.xlabel('Time (s)')\n",
    "plt.ylabel('Frequency (Hz)')\n",
    "plt.tight_layout()\n",
    "plt.show()"
   ]
  },
  {
   "cell_type": "code",
   "execution_count": null,
   "metadata": {},
   "outputs": [],
   "source": [
    "# Compute pitch statistics\n",
    "# Filter out NaN values\n",
    "f0_clean = f0[~np.isnan(f0)]\n",
    "\n",
    "if len(f0_clean) > 0:\n",
    "    pitch_stats = {\n",
    "        'Mean': np.mean(f0_clean),\n",
    "        'Median': np.median(f0_clean),\n",
    "        'Std Dev': np.std(f0_clean),\n",
    "        'Min': np.min(f0_clean),\n",
    "        'Max': np.max(f0_clean),\n",
    "        'Range': np.max(f0_clean) - np.min(f0_clean),\n",
    "        'Voiced Percentage': np.mean(voiced_flag) * 100\n",
    "    }\n",
    "\n",
    "    # Display pitch statistics\n",
    "    for stat, value in pitch_stats.items():\n",
    "        print(f\"{stat}: {value:.2f}\")\n",
    "else:\n",
    "    print(\"No valid pitch values detected.\")"
   ]
  },
  {
   "cell_type": "markdown",
   "metadata": {},
   "source": [
    "## 2. Pitch Contour Analysis\n",
    "\n",
    "Let's analyze the pitch contour in more detail."
   ]
  },
  {
   "cell_type": "code",
   "execution_count": null,
   "metadata": {},
   "outputs": [],
   "source": [
    "# Compute pitch contour features\n",
    "if len(f0_clean) > 0:\n",
    "    # Compute first derivative (pitch velocity)\n",
    "    pitch_velocity = np.diff(f0_clean)\n",
    "    \n",
    "    # Compute second derivative (pitch acceleration)\n",
    "    pitch_acceleration = np.diff(pitch_velocity)\n",
    "    \n",
    "    # Plot pitch contour and its derivatives\n",
    "    plt.figure(figsize=(14, 12))\n",
    "    \n",
    "    plt.subplot(3, 1, 1)\n",
    "    plt.plot(f0_clean)\n",
    "    plt.title('Pitch Contour')\n",
    "    plt.xlabel('Frame')\n",
    "    plt.ylabel('Frequency (Hz)')\n",
    "    \n",
    "    plt.subplot(3, 1, 2)\n",
    "    plt.plot(pitch_velocity)\n",
    "    plt.title('Pitch Velocity (First Derivative)')\n",
    "    plt.xlabel('Frame')\n",
    "    plt.ylabel('Frequency Change (Hz/frame)')\n",
    "    \n",
    "    plt.subplot(3, 1, 3)\n",
    "    plt.plot(pitch_acceleration)\n",
    "    plt.title('Pitch Acceleration (Second Derivative)')\n",
    "    plt.xlabel('Frame')\n",
    "    plt.ylabel('Velocity Change (Hz/frame²)')\n",
    "    \n",
    "    plt.tight_layout()\n",
    "    plt.show()\n",
    "    \n",
    "    # Compute pitch contour statistics\n",
    "    pitch_contour_stats = {\n",
    "        'Velocity Mean': np.mean(pitch_velocity),\n",
    "        'Velocity Std Dev': np.std(pitch_velocity),\n",
    "        'Velocity Max': np.max(np.abs(pitch_velocity)),\n",
    "        'Acceleration Mean': np.mean(pitch_acceleration),\n",
    "        'Acceleration Std Dev': np.std(pitch_acceleration),\n",
    "        'Acceleration Max': np.max(np.abs(pitch_acceleration))\n",
    "    }\n",
    "    \n",
    "    # Display pitch contour statistics\n",
    "    print(\"Pitch Contour Statistics:\")\n",
    "    for stat, value in pitch_contour_stats.items():\n",
    "        print(f\"{stat}: {value:.2f}\")\n",
    "else:\n",
    "    print(\"No valid pitch values detected for contour analysis.\")"
   ]
  },
  {
   "cell_type": "markdown",
   "metadata": {},
   "source": [
    "## 3. Timbre Analysis with MFCCs\n",
    "\n",
    "Mel-Frequency Cepstral Coefficients (MFCCs) are widely used for timbre analysis."
   ]
  },
  {
   "cell_type": "code",
   "execution_count": null,
   "metadata": {},
   "outputs": [],
   "source": [
    "# Compute MFCCs\n",
    "n_mfcc = 13\n",
    "mfccs = librosa.feature.mfcc(y=audio_data, sr=sample_rate, n_mfcc=n_mfcc, n_fft=n_fft, hop_length=hop_length)\n",
    "\n",
    "# Plot MFCCs\n",
    "plt.figure(figsize=(14, 5))\n",
    "librosa.display.specshow(mfccs, sr=sample_rate, x_axis='time', hop_length=hop_length)\n",
    "plt.colorbar()\n",
    "plt.title('MFCCs')\n",
    "plt.tight_layout()\n",
    "plt.show()"
   ]
  },
  {
   "cell_type": "code",
   "execution_count": null,
   "metadata": {},
   "outputs": [],
   "source": [
    "# Compute MFCC statistics\n",
    "mfcc_means = np.mean(mfccs, axis=1)\n",
    "mfcc_stds = np.std(mfccs, axis=1)\n",
    "\n",
    "# Plot MFCC statistics\n",
    "plt.figure(figsize=(14, 8))\n",
    "\n",
    "plt.subplot(2, 1, 1)\n",
    "plt.bar(range(n_mfcc), mfcc_means)\n",
    "plt.title('MFCC Means')\n",
    "plt.xlabel('MFCC Coefficient')\n",
    "plt.ylabel('Mean Value')\n",
    "\n",
    "plt.subplot(2, 1, 2)\n",
    "plt.bar(range(n_mfcc), mfcc_stds)\n",
    "plt.title('MFCC Standard Deviations')\n",
    "plt.xlabel('MFCC Coefficient')\n",
    "plt.ylabel('Standard Deviation')\n",
    "\n",
    "plt.tight_layout()\n",
    "plt.show()"
   ]
  },
  {
   "cell_type": "code",
   "execution_count": null,
   "metadata": {},
   "outputs": [],
   "source": [
    "# Compute MFCC delta (first derivative) and delta-delta (second derivative)\n",
    "mfcc_delta = librosa.feature.delta(mfccs)\n",
    "mfcc_delta2 = librosa.feature.delta(mfccs, order=2)\n",
    "\n",
    "# Plot MFCC delta and delta-delta\n",
    "plt.figure(figsize=(14, 12))\n",
    "\n",
    "plt.subplot(3, 1, 1)\n",
    "librosa.display.specshow(mfccs, sr=sample_rate, x_axis='time', hop_length=hop_length)\n",
    "plt.colorbar()\n",
    "plt.title('MFCCs')\n",
    "\n",
    "plt.subplot(3, 1, 2)\n",
    "librosa.display.specshow(mfcc_delta, sr=sample_rate, x_axis='time', hop_length=hop_length)\n",
    "plt.colorbar()\n",
    "plt.title('MFCC Delta (First Derivative)')\n",
    "\n",
    "plt.subplot(3, 1, 3)\n",
    "librosa.display.specshow(mfcc_delta2, sr=sample_rate, x_axis='time', hop_length=hop_length)\n",
    "plt.colorbar()\n",
    "plt.title('MFCC Delta-Delta (Second Derivative)')\n",
    "\n",
    "plt.tight_layout()\n",
    "plt.show()"
   ]
  },
  {
   "cell_type": "markdown",
   "metadata": {},
   "source": [
    "## 4. Additional Timbre Features\n",
    "\n",
    "Let's compute and visualize additional timbre features."
   ]
  },
  {
   "cell_type": "code",
   "execution_count": null,
   "metadata": {},
   "outputs": [],
   "source": [
    "# Compute spectral contrast\n",
    "contrast = librosa.feature.spectral_contrast(y=audio_data, sr=sample_rate, n_fft=n_fft, hop_length=hop_length)\n",
    "\n",
    "# Plot spectral contrast\n",
    "plt.figure(figsize=(14, 5))\n",
    "librosa.display.specshow(contrast, sr=sample_rate, x_axis='time', hop_length=hop_length)\n",
    "plt.colorbar()\n",
    "plt.title('Spectral Contrast')\n",
    "plt.tight_layout()\n",
    "plt.show()"
   ]
  },
  {
   "cell_type": "code",
   "execution_count": null,
   "metadata": {},
   "outputs": [],
   "source": [
    "# Compute tonnetz (tonal centroid features)\n",
    "tonnetz = librosa.feature.tonnetz(y=audio_data, sr=sample_rate)\n",
    "\n",
    "# Plot tonnetz\n",
    "plt.figure(figsize=(14, 5))\n",
    "librosa.display.specshow(tonnetz, sr=sample_rate, x_axis='time')\n",
    "plt.colorbar()\n",
    "plt.title('Tonnetz')\n",
    "plt.tight_layout()\n",
    "plt.show()"
   ]
  },
  {
   "cell_type": "markdown",
   "metadata": {},
   "source": [
    "## 5. Using the Package's Pitch and Timbre Analysis\n",
    "\n",
    "Let's use the package's built-in pitch and timbre analysis function."
   ]
  },
  {
   "cell_type": "code",
   "execution_count": null,
   "metadata": {},
   "outputs": [],
   "source": [
    "# Use the package's pitch and timbre analysis function\n",
    "pitch_timbre_results = analyze_pitch_timbre(\n",
    "    audio_data, \n",
    "    sample_rate, \n",
    "    title_prefix=\"Sample Audio\"\n",
    ")\n",
    "\n",
    "# Display the figures\n",
    "for fig_name, fig in pitch_timbre_results['figures'].items():\n",
    "    plt.figure(fig.number)\n",
    "    plt.tight_layout()\n",
    "    plt.show()"
   ]
  },
  {
   "cell_type": "code",
   "execution_count": null,
   "metadata": {},
   "outputs": [],
   "source": [
    "# Display pitch statistics\n",
    "print(\"Pitch Statistics:\")\n",
    "for stat, value in pitch_timbre_results['pitch_stats'].items():\n",
    "    print(f\"{stat}: {value}\")\n",
    "\n",
    "# Display MFCC statistics\n",
    "print(\"\\nMFCC Statistics:\")\n",
    "for stat, value in pitch_timbre_results['mfcc_stats'].items():\n",
    "    print(f\"{stat}: {value}\")"
   ]
  },
  {
   "cell_type": "markdown",
   "metadata": {},
   "source": [
    "## Conclusion\n",
    "\n",
    "In this notebook, we've performed a comprehensive analysis of pitch and timbre characteristics of an audio file. We've examined pitch using different algorithms, analyzed pitch contours, and explored timbre features using MFCCs and other spectral features.\n",
    "\n",
    "This analysis provides valuable insights into the pitch and timbre characteristics of speech signals, which are important for understanding speech patterns, speaker identification, and emotion detection in speech recognition tasks."
   ]
  }
 ],
 "metadata": {
  "kernelspec": {
   "display_name": "Python 3",
   "language": "python",
   "name": "python3"
  },
  "language_info": {
   "codemirror_mode": {
    "name": "ipython",
    "version": 3
   },
   "file_extension": ".py",
   "mimetype": "text/x-python",
   "name": "python",
   "nbconvert_exporter": "python",
   "pygments_lexer": "ipython3",
   "version": "3.8.10"
  }
 },
 "nbformat": 4,
 "nbformat_minor": 4
}
