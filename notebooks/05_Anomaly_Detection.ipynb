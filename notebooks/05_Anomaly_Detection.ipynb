{
 "cells": [
  {
   "cell_type": "markdown",
   "metadata": {},
   "source": [
    "# Anomaly Detection in Audio\n",
    "\n",
    "This notebook demonstrates how to detect anomalies in audio files using the CTC-SpeechRefinement package. We'll explore various techniques for identifying unusual patterns, outliers, and artifacts in audio signals."
   ]
  },
  {
   "cell_type": "markdown",
   "metadata": {},
   "source": [
    "## Setup\n",
    "\n",
    "First, let's import the necessary libraries and set up the environment."
   ]
  },
  {
   "cell_type": "code",
   "execution_count": null,
   "metadata": {},
   "outputs": [],
   "source": [
    "# Add the project root to the Python path\n",
    "import sys\n",
    "import os\n",
    "sys.path.append(os.path.abspath('..'))\n",
    "\n",
    "# Import libraries\n",
    "import numpy as np\n",
    "import matplotlib.pyplot as plt\n",
    "import librosa\n",
    "import librosa.display\n",
    "import pandas as pd\n",
    "import seaborn as sns\n",
    "from IPython.display import Audio, display\n",
    "import glob\n",
    "from pathlib import Path\n",
    "from scipy import stats\n",
    "from sklearn.ensemble import IsolationForest\n",
    "from sklearn.preprocessing import StandardScaler\n",
    "\n",
    "# Import from the project\n",
    "from ctc_speech_refinement.core.preprocessing.audio import load_audio\n",
    "from ctc_speech_refinement.core.eda.anomaly_detection import analyze_anomalies\n",
    "\n",
    "# Set up plotting\n",
    "plt.style.use('seaborn-v0_8-whitegrid')\n",
    "plt.rcParams['figure.figsize'] = (12, 6)\n",
    "plt.rcParams['figure.dpi'] = 100"
   ]
  },
  {
   "cell_type": "markdown",
   "metadata": {},
   "source": [
    "## Load Audio Data\n",
    "\n",
    "Let's load an audio file and examine its basic properties."
   ]
  },
  {
   "cell_type": "code",
   "execution_count": null,
   "metadata": {},
   "outputs": [],
   "source": [
    "# Define the path to an audio file\n",
    "audio_file = \"../data/speech2text/input/test1_01.wav\"  # Path to the audio file\n",
    "\n",
    "# Load the audio file using our package's function\n",
    "audio_data, sample_rate = load_audio(audio_file)\n",
    "\n",
    "# Print basic information\n",
    "print(f\"Audio file: {audio_file}\")\n",
    "print(f\"Sample rate: {sample_rate} Hz\")\n",
    "print(f\"Duration: {len(audio_data) / sample_rate:.2f} seconds\")\n",
    "print(f\"Number of samples: {len(audio_data)}\")\n",
    "\n",
    "# Play the audio\n",
    "display(Audio(audio_data, rate=sample_rate))"
   ]
  },
  {
   "cell_type": "markdown",
   "metadata": {},
   "source": [
    "## Comprehensive Anomaly Detection\n",
    "\n",
    "Let's use our package's analyze_anomalies function to perform a comprehensive analysis of anomalies in the audio."
   ]
  },
  {
   "cell_type": "code",
   "execution_count": null,
   "metadata": {},
   "outputs": [],
   "source": [
    "# Use our package's function to detect anomalies\n",
    "anomaly_results = analyze_anomalies(audio_data, sample_rate, title_prefix=\"Sample Audio\")\n",
    "\n",
    "# Display the amplitude anomalies\n",
    "print(\"\\nAmplitude Anomalies:\")\n",
    "for i, (start, end) in enumerate(anomaly_results['amplitude_anomalies']):\n",
    "    print(f\"Anomaly {i+1}: {start:.2f}s - {end:.2f}s (duration: {end-start:.2f}s)\")\n",
    "\n",
    "# Display the spectral anomalies\n",
    "print(\"\\nSpectral Anomalies:\")\n",
    "for i, frame_idx in enumerate(anomaly_results['spectral_anomalies']):\n",
    "    # Convert frame index to time\n",
    "    time = librosa.frames_to_time(frame_idx, sr=sample_rate, hop_length=512)\n",
    "    print(f\"Anomaly {i+1}: at time {time:.2f}s\")\n",
    "\n",
    "# Display the figures\n",
    "for fig_name, fig in anomaly_results['figures'].items():\n",
    "    plt.figure(fig.number)\n",
    "    plt.tight_layout()\n",
    "    plt.show()"
   ]
  },
  {
   "cell_type": "markdown",
   "metadata": {},
   "source": [
    "## Detailed Anomaly Detection\n",
    "\n",
    "Now let's explore anomaly detection in more detail."
   ]
  },
  {
   "cell_type": "markdown",
   "metadata": {},
   "source": [
    "### 1. Amplitude Anomalies using Z-Score\n",
    "\n",
    "Z-score measures how many standard deviations a data point is from the mean. We can use it to detect amplitude anomalies."
   ]
  },
  {
   "cell_type": "code",
   "execution_count": null,
   "metadata": {},
   "outputs": [],
   "source": [
    "# Compute Z-scores for amplitude\n",
    "z_scores = stats.zscore(np.abs(audio_data))\n",
    "\n",
    "# Define threshold for anomalies\n",
    "threshold = 3.0  # 3 standard deviations from the mean\n",
    "\n",
    "# Find anomalies\n",
    "anomalies = np.where(z_scores > threshold)[0]\n",
    "\n",
    "# Group consecutive anomalies\n",
    "anomaly_regions = []\n",
    "if len(anomalies) > 0:\n",
    "    start = anomalies[0]\n",
    "    for i in range(1, len(anomalies)):\n",
    "        if anomalies[i] - anomalies[i-1] > 1:  # Not consecutive\n",
    "            anomaly_regions.append((start, anomalies[i-1]))\n",
    "            start = anomalies[i]\n",
    "    anomaly_regions.append((start, anomalies[-1]))\n",
    "\n",
    "# Convert to time\n",
    "anomaly_regions_time = [(start / sample_rate, end / sample_rate) for start, end in anomaly_regions]\n",
    "\n",
    "# Print anomaly regions\n",
    "print(\"Amplitude Anomalies (Z-score method):\")\n",
    "for i, (start, end) in enumerate(anomaly_regions_time):\n",
    "    print(f\"Anomaly {i+1}: {start:.2f}s - {end:.2f}s (duration: {end-start:.2f}s)\")\n",
    "\n",
    "# Plot waveform with anomalies highlighted\n",
    "plt.figure(figsize=(14, 7))\n",
    "librosa.display.waveshow(audio_data, sr=sample_rate, alpha=0.5)\n",
    "\n",
    "# Highlight anomaly regions\n",
    "for start, end in anomaly_regions_time:\n",
    "    plt.axvspan(start, end, color='red', alpha=0.3)\n",
    "\n",
    "plt.title('Waveform with Amplitude Anomalies Highlighted (Z-score method)')\n",
    "plt.xlabel('Time (s)')\n",
    "plt.ylabel('Amplitude')\n",
    "plt.tight_layout()\n",
    "plt.show()"
   ]
  },
  {
   "cell_type": "markdown",
   "metadata": {},
   "source": [
    "### 2. Spectral Anomalies using Isolation Forest\n",
    "\n",
    "Isolation Forest is an unsupervised learning algorithm that detects anomalies by isolating observations. We can use it to detect spectral anomalies."
   ]
  },
  {
   "cell_type": "code",
   "execution_count": null,
   "metadata": {},
   "outputs": [],
   "source": [
    "# Compute spectral features\n",
    "hop_length = 512\n",
    "frame_length = 2048\n",
    "\n",
    "# Compute various spectral features\n",
    "spectral_centroid = librosa.feature.spectral_centroid(y=audio_data, sr=sample_rate, n_fft=frame_length, hop_length=hop_length)[0]\n",
    "spectral_bandwidth = librosa.feature.spectral_bandwidth(y=audio_data, sr=sample_rate, n_fft=frame_length, hop_length=hop_length)[0]\n",
    "spectral_rolloff = librosa.feature.spectral_rolloff(y=audio_data, sr=sample_rate, n_fft=frame_length, hop_length=hop_length)[0]\n",
    "spectral_flatness = librosa.feature.spectral_flatness(y=audio_data, n_fft=frame_length, hop_length=hop_length)[0]\n",
    "\n",
    "# Create a feature matrix\n",
    "features = np.vstack([spectral_centroid, spectral_bandwidth, spectral_rolloff, spectral_flatness]).T\n",
    "\n",
    "# Standardize features\n",
    "scaler = StandardScaler()\n",
    "features_scaled = scaler.fit_transform(features)\n",
    "\n",
    "# Apply Isolation Forest\n",
    "contamination = 0.05  # Expected proportion of anomalies\n",
    "iso_forest = IsolationForest(contamination=contamination, random_state=42)\n",
    "anomaly_scores = iso_forest.fit_predict(features_scaled)\n",
    "\n",
    "# Convert to binary (1: normal, -1: anomaly)\n",
    "anomalies = np.where(anomaly_scores == -1)[0]\n",
    "\n",
    "# Group consecutive anomalies\n",
    "anomaly_regions = []\n",
    "if len(anomalies) > 0:\n",
    "    start = anomalies[0]\n",
    "    for i in range(1, len(anomalies)):\n",
    "        if anomalies[i] - anomalies[i-1] > 1:  # Not consecutive\n",
    "            anomaly_regions.append((start, anomalies[i-1]))\n",
    "            start = anomalies[i]\n",
    "    anomaly_regions.append((start, anomalies[-1]))\n",
    "\n",
    "# Convert frame indices to time\n",
    "anomaly_regions_time = [(start * hop_length / sample_rate, (end + 1) * hop_length / sample_rate) for start, end in anomaly_regions]\n",
    "\n",
    "# Print anomaly regions\n",
    "print(\"Spectral Anomalies (Isolation Forest method):\")\n",
    "for i, (start, end) in enumerate(anomaly_regions_time):\n",
    "    print(f\"Anomaly {i+1}: {start:.2f}s - {end:.2f}s (duration: {end-start:.2f}s)\")\n",
    "\n",
    "# Plot spectrogram with anomalies highlighted\n",
    "plt.figure(figsize=(14, 7))\n",
    "\n",
    "# Compute spectrogram\n",
    "D = librosa.amplitude_to_db(np.abs(librosa.stft(audio_data, n_fft=frame_length, hop_length=hop_length)), ref=np.max)\n",
    "\n",
    "# Plot spectrogram\n",
    "librosa.display.specshow(D, sr=sample_rate, x_axis='time', y_axis='log', hop_length=hop_length)\n",
    "plt.colorbar(format='%+2.0f dB')\n",
    "\n",
    "# Highlight anomaly regions\n",
    "for start, end in anomaly_regions_time:\n",
    "    plt.axvspan(start, end, color='red', alpha=0.3)\n",
    "\n",
    "plt.title('Spectrogram with Spectral Anomalies Highlighted (Isolation Forest method)')\n",
    "plt.tight_layout()\n",
    "plt.show()"
   ]
  },
  {
   "cell_type": "markdown",
   "metadata": {},
   "source": [
    "### 3. Visualizing Anomaly Scores\n",
    "\n",
    "Let's visualize the anomaly scores from the Isolation Forest algorithm."
   ]
  },
  {
   "cell_type": "code",
   "execution_count": null,
   "metadata": {},
   "outputs": [],
   "source": [
    "# Get decision function scores (higher values indicate more anomalous)\n",
    "anomaly_scores_raw = -iso_forest.decision_function(features_scaled)\n",
    "frame_times = librosa.frames_to_time(np.arange(len(anomaly_scores_raw)), sr=sample_rate, hop_length=hop_length)\n",
    "\n",
    "# Plot anomaly scores\n",
    "plt.figure(figsize=(14, 7))\n",
    "plt.plot(frame_times, anomaly_scores_raw)\n",
    "plt.axhline(y=0, color='r', linestyle='--', label='Threshold')\n",
    "plt.title('Spectral Anomaly Scores (Isolation Forest)')\n",
    "plt.xlabel('Time (s)')\n",
    "plt.ylabel('Anomaly Score')\n",
    "plt.legend()\n",
    "plt.grid(True, alpha=0.3)\n",
    "plt.tight_layout()\n",
    "plt.show()"
   ]
  },
  {
   "cell_type": "markdown",
   "metadata": {},
   "source": [
    "### 4. Extracting and Playing Anomalous Segments\n",
    "\n",
    "Let's extract and play the anomalous segments to hear what they sound like."
   ]
  },
  {
   "cell_type": "code",
   "execution_count": null,
   "metadata": {},
   "outputs": [],
   "source": [
    "# Extract and play amplitude anomalies\n",
    "print(\"Amplitude Anomalies:\")\n",
    "for i, (start, end) in enumerate(anomaly_regions_time):\n",
    "    start_sample = int(start * sample_rate)\n",
    "    end_sample = int(end * sample_rate)\n",
    "    anomaly_segment = audio_data[start_sample:end_sample]\n",
    "    \n",
    "    print(f\"Anomaly {i+1} ({start:.2f}s - {end:.2f}s):\")\n",
    "    display(Audio(anomaly_segment, rate=sample_rate))"
   ]
  },
  {
   "cell_type": "markdown",
   "metadata": {},
   "source": [
    "## Conclusion\n",
    "\n",
    "In this notebook, we've performed comprehensive anomaly detection on an audio file using the CTC-SpeechRefinement package. We've explored various techniques for detecting amplitude and spectral anomalies, including Z-score analysis and Isolation Forest. These techniques can be useful for identifying unusual patterns, outliers, and artifacts in audio signals, which is important for quality control, preprocessing, and feature extraction in speech recognition tasks."
   ]
  }
 ],
 "metadata": {
  "kernelspec": {
   "display_name": "Python 3",
   "language": "python",
   "name": "python3"
  },
  "language_info": {
   "codemirror_mode": {
    "name": "ipython",
    "version": 3
   },
   "file_extension": ".py",
   "mimetype": "text/x-python",
   "name": "python",
   "nbconvert_exporter": "python",
   "pygments_lexer": "ipython3",
   "version": "3.8.10"
  }
 },
 "nbformat": 4,
 "nbformat_minor": 4
}
