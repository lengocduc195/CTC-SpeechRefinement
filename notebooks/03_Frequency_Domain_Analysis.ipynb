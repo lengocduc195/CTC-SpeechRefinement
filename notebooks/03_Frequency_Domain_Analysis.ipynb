{
 "cells": [
  {
   "cell_type": "markdown",
   "metadata": {},
   "source": [
    "# Frequency Domain Analysis\n",
    "\n",
    "This notebook demonstrates how to perform frequency domain analysis on audio files using the CTC-SpeechRefinement package. We'll explore various spectral features and visualizations that can help understand the frequency characteristics of audio signals."
   ]
  },
  {
   "cell_type": "markdown",
   "metadata": {},
   "source": [
    "## Setup\n",
    "\n",
    "First, let's import the necessary libraries and set up the environment."
   ]
  },
  {
   "cell_type": "code",
   "execution_count": null,
   "metadata": {},
   "outputs": [],
   "source": [
    "# Add the project root to the Python path\n",
    "import sys\n",
    "import os\n",
    "sys.path.append(os.path.abspath('..'))\n",
    "\n",
    "# Import libraries\n",
    "import numpy as np\n",
    "import matplotlib.pyplot as plt\n",
    "import librosa\n",
    "import librosa.display\n",
    "import pandas as pd\n",
    "import seaborn as sns\n",
    "from IPython.display import Audio, display\n",
    "import glob\n",
    "from pathlib import Path\n",
    "\n",
    "# Import from the project\n",
    "from ctc_speech_refinement.core.preprocessing.audio import load_audio\n",
    "from ctc_speech_refinement.core.eda.frequency_domain import analyze_frequency_domain\n",
    "from ctc_speech_refinement.core.eda.spectral_features import (\n",
    "    compute_stft, compute_mel_spectrogram, compute_spectral_centroid,\n",
    "    compute_spectral_bandwidth, compute_spectral_contrast,\n",
    "    compute_spectral_flatness, compute_spectral_rolloff\n",
    ")\n",
    "\n",
    "# Set up plotting\n",
    "plt.style.use('seaborn-v0_8-whitegrid')\n",
    "plt.rcParams['figure.figsize'] = (12, 6)\n",
    "plt.rcParams['figure.dpi'] = 100"
   ]
  },
  {
   "cell_type": "markdown",
   "metadata": {},
   "source": [
    "## Load Audio Data\n",
    "\n",
    "Let's load an audio file and examine its basic properties."
   ]
  },
  {
   "cell_type": "code",
   "execution_count": null,
   "metadata": {},
   "outputs": [],
   "source": [
    "# Define the path to an audio file\n",
    "audio_file = \"../data/speech2text/input/test1_01.wav\"  # Path to the audio file\n",
    "\n",
    "# Load the audio file using our package's function\n",
    "audio_data, sample_rate = load_audio(audio_file)\n",
    "\n",
    "# Print basic information\n",
    "print(f\"Audio file: {audio_file}\")\n",
    "print(f\"Sample rate: {sample_rate} Hz\")\n",
    "print(f\"Duration: {len(audio_data) / sample_rate:.2f} seconds\")\n",
    "print(f\"Number of samples: {len(audio_data)}\")\n",
    "\n",
    "# Play the audio\n",
    "display(Audio(audio_data, rate=sample_rate))"
   ]
  },
  {
   "cell_type": "markdown",
   "metadata": {},
   "source": [
    "## Comprehensive Frequency Domain Analysis\n",
    "\n",
    "Let's use our package's analyze_frequency_domain function to perform a comprehensive analysis of the audio in the frequency domain."
   ]
  },
  {
   "cell_type": "code",
   "execution_count": null,
   "metadata": {},
   "outputs": [],
   "source": [
    "# Use our package's function to analyze frequency domain features\n",
    "frequency_domain_results = analyze_frequency_domain(audio_data, sample_rate, title_prefix=\"Sample Audio\")\n",
    "\n",
    "# Display the spectral features\n",
    "print(\"\\nSpectral Features:\")\n",
    "for feature, value in frequency_domain_results['spectral_features'].items():\n",
    "    print(f\"{feature}: {value}\")\n",
    "\n",
    "# Display the figures\n",
    "for fig_name, fig in frequency_domain_results['figures'].items():\n",
    "    plt.figure(fig.number)\n",
    "    plt.tight_layout()\n",
    "    plt.show()"
   ]
  },
  {
   "cell_type": "markdown",
   "metadata": {},
   "source": [
    "## Detailed Spectral Analysis\n",
    "\n",
    "Now let's explore individual spectral features in more detail using our package's specialized functions."
   ]
  },
  {
   "cell_type": "markdown",
   "metadata": {},
   "source": [
    "### 1. Short-Time Fourier Transform (STFT)\n",
    "\n",
    "The STFT is a fundamental transform that converts a time-domain signal into a time-frequency representation."
   ]
  },
  {
   "cell_type": "code",
   "execution_count": null,
   "metadata": {},
   "outputs": [],
   "source": [
    "# Compute STFT using our package's function\n",
    "stft_result = compute_stft(audio_data, n_fft=2048, hop_length=512)\n",
    "\n",
    "# Convert to dB scale for visualization\n",
    "stft_db = librosa.amplitude_to_db(np.abs(stft_result), ref=np.max)\n",
    "\n",
    "# Plot the STFT\n",
    "plt.figure(figsize=(14, 7))\n",
    "librosa.display.specshow(stft_db, sr=sample_rate, x_axis='time', y_axis='log', hop_length=512)\n",
    "plt.colorbar(format='%+2.0f dB')\n",
    "plt.title('Short-Time Fourier Transform (STFT)')\n",
    "plt.tight_layout()\n",
    "plt.show()"
   ]
  },
  {
   "cell_type": "markdown",
   "metadata": {},
   "source": [
    "### 2. Mel Spectrogram\n",
    "\n",
    "The Mel spectrogram is a representation of the STFT where the frequency bins are converted to the Mel scale, which better approximates human auditory perception."
   ]
  },
  {
   "cell_type": "code",
   "execution_count": null,
   "metadata": {},
   "outputs": [],
   "source": [
    "# Compute Mel spectrogram using our package's function\n",
    "mel_spec = compute_mel_spectrogram(audio_data, sample_rate, n_fft=2048, hop_length=512, n_mels=128)\n",
    "\n",
    "# Convert to dB scale for visualization\n",
    "mel_spec_db = librosa.power_to_db(mel_spec, ref=np.max)\n",
    "\n",
    "# Plot the Mel spectrogram\n",
    "plt.figure(figsize=(14, 7))\n",
    "librosa.display.specshow(mel_spec_db, sr=sample_rate, x_axis='time', y_axis='mel', hop_length=512)\n",
    "plt.colorbar(format='%+2.0f dB')\n",
    "plt.title('Mel Spectrogram')\n",
    "plt.tight_layout()\n",
    "plt.show()"
   ]
  },
  {
   "cell_type": "markdown",
   "metadata": {},
   "source": [
    "### 3. Spectral Centroid\n",
    "\n",
    "The spectral centroid indicates where the \"center of mass\" of the spectrum is located. It is a measure of the brightness of a sound."
   ]
  },
  {
   "cell_type": "code",
   "execution_count": null,
   "metadata": {},
   "outputs": [],
   "source": [
    "# Compute spectral centroid using our package's function\n",
    "spectral_centroid = compute_spectral_centroid(audio_data, sample_rate, n_fft=2048, hop_length=512)\n",
    "centroid_times = librosa.times_like(spectral_centroid, sr=sample_rate, hop_length=512)\n",
    "\n",
    "# Plot the spectral centroid\n",
    "plt.figure(figsize=(14, 7))\n",
    "plt.semilogy(centroid_times, spectral_centroid)\n",
    "plt.axhline(np.mean(spectral_centroid), color='r', linestyle='--', label=f'Mean: {np.mean(spectral_centroid):.2f} Hz')\n",
    "plt.title('Spectral Centroid')\n",
    "plt.xlabel('Time (s)')\n",
    "plt.ylabel('Frequency (Hz)')\n",
    "plt.legend()\n",
    "plt.tight_layout()\n",
    "plt.show()"
   ]
  },
  {
   "cell_type": "markdown",
   "metadata": {},
   "source": [
    "### 4. Spectral Bandwidth\n",
    "\n",
    "The spectral bandwidth measures the width of the spectrum around its centroid. It indicates how \"spread out\" the frequencies are around the centroid."
   ]
  },
  {
   "cell_type": "code",
   "execution_count": null,
   "metadata": {},
   "outputs": [],
   "source": [
    "# Compute spectral bandwidth using our package's function\n",
    "spectral_bandwidth = compute_spectral_bandwidth(audio_data, sample_rate, n_fft=2048, hop_length=512)\n",
    "bandwidth_times = librosa.times_like(spectral_bandwidth, sr=sample_rate, hop_length=512)\n",
    "\n",
    "# Plot the spectral bandwidth\n",
    "plt.figure(figsize=(14, 7))\n",
    "plt.semilogy(bandwidth_times, spectral_bandwidth)\n",
    "plt.axhline(np.mean(spectral_bandwidth), color='r', linestyle='--', label=f'Mean: {np.mean(spectral_bandwidth):.2f} Hz')\n",
    "plt.title('Spectral Bandwidth')\n",
    "plt.xlabel('Time (s)')\n",
    "plt.ylabel('Frequency (Hz)')\n",
    "plt.legend()\n",
    "plt.tight_layout()\n",
    "plt.show()"
   ]
  },
  {
   "cell_type": "markdown",
   "metadata": {},
   "source": [
    "### 5. Spectral Contrast\n",
    "\n",
    "Spectral contrast measures the difference between peaks and valleys in the spectrum. It can be used to distinguish between harmonic and percussive components."
   ]
  },
  {
   "cell_type": "code",
   "execution_count": null,
   "metadata": {},
   "outputs": [],
   "source": [
    "# Compute spectral contrast using our package's function\n",
    "spectral_contrast = compute_spectral_contrast(audio_data, sample_rate, n_fft=2048, hop_length=512)\n",
    "\n",
    "# Plot the spectral contrast\n",
    "plt.figure(figsize=(14, 7))\n",
    "librosa.display.specshow(spectral_contrast, sr=sample_rate, x_axis='time', hop_length=512)\n",
    "plt.colorbar()\n",
    "plt.title('Spectral Contrast')\n",
    "plt.tight_layout()\n",
    "plt.show()"
   ]
  },
  {
   "cell_type": "markdown",
   "metadata": {},
   "source": [
    "### 6. Spectral Flatness\n",
    "\n",
    "Spectral flatness measures how noise-like a sound is, as opposed to being tone-like. A high spectral flatness indicates a noise-like sound, while a low spectral flatness indicates a tone-like sound."
   ]
  },
  {
   "cell_type": "code",
   "execution_count": null,
   "metadata": {},
   "outputs": [],
   "source": [
    "# Compute spectral flatness using our package's function\n",
    "spectral_flatness = compute_spectral_flatness(audio_data, n_fft=2048, hop_length=512)\n",
    "flatness_times = librosa.times_like(spectral_flatness, sr=sample_rate, hop_length=512)\n",
    "\n",
    "# Plot the spectral flatness\n",
    "plt.figure(figsize=(14, 7))\n",
    "plt.semilogy(flatness_times, spectral_flatness)\n",
    "plt.axhline(np.mean(spectral_flatness), color='r', linestyle='--', label=f'Mean: {np.mean(spectral_flatness):.6f}')\n",
    "plt.title('Spectral Flatness')\n",
    "plt.xlabel('Time (s)')\n",
    "plt.ylabel('Flatness')\n",
    "plt.legend()\n",
    "plt.tight_layout()\n",
    "plt.show()"
   ]
  },
  {
   "cell_type": "markdown",
   "metadata": {},
   "source": [
    "### 7. Spectral Rolloff\n",
    "\n",
    "Spectral rolloff is the frequency below which a specified percentage of the total spectral energy lies. It is often used as a measure of the \"brightness\" of a sound."
   ]
  },
  {
   "cell_type": "code",
   "execution_count": null,
   "metadata": {},
   "outputs": [],
   "source": [
    "# Compute spectral rolloff using our package's function\n",
    "spectral_rolloff = compute_spectral_rolloff(audio_data, sample_rate, n_fft=2048, hop_length=512, roll_percent=0.85)\n",
    "rolloff_times = librosa.times_like(spectral_rolloff, sr=sample_rate, hop_length=512)\n",
    "\n",
    "# Plot the spectral rolloff\n",
    "plt.figure(figsize=(14, 7))\n",
    "plt.semilogy(rolloff_times, spectral_rolloff)\n",
    "plt.axhline(np.mean(spectral_rolloff), color='r', linestyle='--', label=f'Mean: {np.mean(spectral_rolloff):.2f} Hz')\n",
    "plt.title('Spectral Rolloff (85%)')\n",
    "plt.xlabel('Time (s)')\n",
    "plt.ylabel('Frequency (Hz)')\n",
    "plt.legend()\n",
    "plt.tight_layout()\n",
    "plt.show()"
   ]
  },
  {
   "cell_type": "markdown",
   "metadata": {},
   "source": [
    "## Conclusion\n",
    "\n",
    "In this notebook, we've performed a comprehensive frequency domain analysis of an audio file using the CTC-SpeechRefinement package. We've examined various spectral features including the STFT, Mel spectrogram, spectral centroid, bandwidth, contrast, flatness, and rolloff. These features provide valuable insights into the frequency characteristics of the audio signal, which can be useful for speech recognition tasks, audio classification, and other audio processing applications."
   ]
  }
 ],
 "metadata": {
  "kernelspec": {
   "display_name": "Python 3",
   "language": "python",
   "name": "python3"
  },
  "language_info": {
   "codemirror_mode": {
    "name": "ipython",
    "version": 3
   },
   "file_extension": ".py",
   "mimetype": "text/x-python",
   "name": "python",
   "nbconvert_exporter": "python",
   "pygments_lexer": "ipython3",
   "version": "3.8.10"
  }
 },
 "nbformat": 4,
 "nbformat_minor": 4
}
