{
 "cells": [
  {
   "cell_type": "markdown",
   "metadata": {},
   "source": [
    "# Frequency Domain Analysis\n",
    "\n",
    "This notebook demonstrates comprehensive frequency domain analysis of audio files using the CTC-SpeechRefinement package. We'll explore various spectral features and transformations that are useful for understanding the frequency characteristics of audio signals."
   ]
  },
  {
   "cell_type": "markdown",
   "metadata": {},
   "source": [
    "## Setup\n",
    "\n",
    "First, let's import the necessary libraries and set up the environment."
   ]
  },
  {
   "cell_type": "code",
   "execution_count": null,
   "metadata": {},
   "outputs": [],
   "source": [
    "# Add the project root to the Python path\n",
    "import sys\n",
    "import os\n",
    "sys.path.append(os.path.abspath('..'))\n",
    "\n",
    "# Import libraries\n",
    "import numpy as np\n",
    "import matplotlib.pyplot as plt\n",
    "import librosa\n",
    "import librosa.display\n",
    "import pandas as pd\n",
    "import seaborn as sns\n",
    "from IPython.display import Audio, display\n",
    "import glob\n",
    "from pathlib import Path\n",
    "\n",
    "# Import from the project\n",
    "from ctc_speech_refinement.core.preprocessing.audio import preprocess_audio\n",
    "from ctc_speech_refinement.core.eda.frequency_domain import analyze_frequency_domain\n",
    "\n",
    "# Set up plotting\n",
    "plt.style.use('seaborn-v0_8-whitegrid')\n",
    "plt.rcParams['figure.figsize'] = (12, 6)\n",
    "plt.rcParams['figure.dpi'] = 100"
   ]
  },
  {
   "cell_type": "markdown",
   "metadata": {},
   "source": [
    "## Load Audio Data\n",
    "\n",
    "Let's load an audio file and examine its basic properties."
   ]
  },
  {
   "cell_type": "code",
   "execution_count": null,
   "metadata": {},
   "outputs": [],
   "source": [
    "# Define the path to an audio file\n",
    "audio_file = \"../data/test1/test1_01.wav\"  # Update this path to your audio file\n",
    "\n",
    "# Load the audio file\n",
    "audio_data, sample_rate = librosa.load(audio_file, sr=None)\n",
    "\n",
    "# Print basic information\n",
    "print(f\"Audio file: {audio_file}\")\n",
    "print(f\"Sample rate: {sample_rate} Hz\")\n",
    "print(f\"Duration: {len(audio_data) / sample_rate:.2f} seconds\")\n",
    "print(f\"Number of samples: {len(audio_data)}\")\n",
    "\n",
    "# Play the audio\n",
    "display(Audio(audio_data, rate=sample_rate))"
   ]
  },
  {
   "cell_type": "markdown",
   "metadata": {},
   "source": [
    "## 1. Short-Time Fourier Transform (STFT)\n",
    "\n",
    "The STFT is a fundamental transform for analyzing the frequency content of audio signals over time."
   ]
  },
  {
   "cell_type": "code",
   "execution_count": null,
   "metadata": {},
   "outputs": [],
   "source": [
    "# Compute STFT\n",
    "n_fft = 2048\n",
    "hop_length = 512\n",
    "stft = librosa.stft(audio_data, n_fft=n_fft, hop_length=hop_length)\n",
    "stft_magnitude = np.abs(stft)\n",
    "stft_db = librosa.amplitude_to_db(stft_magnitude, ref=np.max)\n",
    "\n",
    "# Plot spectrogram\n",
    "plt.figure(figsize=(14, 5))\n",
    "librosa.display.specshow(stft_db, sr=sample_rate, x_axis='time', y_axis='log', hop_length=hop_length)\n",
    "plt.colorbar(format='%+2.0f dB')\n",
    "plt.title('Spectrogram (STFT)')\n",
    "plt.tight_layout()\n",
    "plt.show()"
   ]
  },
  {
   "cell_type": "markdown",
   "metadata": {},
   "source": [
    "## 2. Mel Spectrogram\n",
    "\n",
    "The Mel spectrogram represents the STFT on the Mel scale, which better approximates human auditory perception."
   ]
  },
  {
   "cell_type": "code",
   "execution_count": null,
   "metadata": {},
   "outputs": [],
   "source": [
    "# Compute Mel spectrogram\n",
    "n_mels = 128\n",
    "mel_spectrogram = librosa.feature.melspectrogram(y=audio_data, sr=sample_rate, n_fft=n_fft, hop_length=hop_length, n_mels=n_mels)\n",
    "mel_spectrogram_db = librosa.power_to_db(mel_spectrogram, ref=np.max)\n",
    "\n",
    "# Plot Mel spectrogram\n",
    "plt.figure(figsize=(14, 5))\n",
    "librosa.display.specshow(mel_spectrogram_db, sr=sample_rate, x_axis='time', y_axis='mel', hop_length=hop_length)\n",
    "plt.colorbar(format='%+2.0f dB')\n",
    "plt.title('Mel Spectrogram')\n",
    "plt.tight_layout()\n",
    "plt.show()"
   ]
  },
  {
   "cell_type": "markdown",
   "metadata": {},
   "source": [
    "## 3. Chromagram\n",
    "\n",
    "The chromagram represents the energy distribution across the 12 pitch classes (chroma)."
   ]
  },
  {
   "cell_type": "code",
   "execution_count": null,
   "metadata": {},
   "outputs": [],
   "source": [
    "# Compute chromagram\n",
    "chromagram = librosa.feature.chroma_stft(y=audio_data, sr=sample_rate, n_fft=n_fft, hop_length=hop_length)\n",
    "\n",
    "# Plot chromagram\n",
    "plt.figure(figsize=(14, 5))\n",
    "librosa.display.specshow(chromagram, sr=sample_rate, x_axis='time', y_axis='chroma', hop_length=hop_length)\n",
    "plt.colorbar()\n",
    "plt.title('Chromagram')\n",
    "plt.tight_layout()\n",
    "plt.show()"
   ]
  },
  {
   "cell_type": "markdown",
   "metadata": {},
   "source": [
    "## 4. Spectral Features\n",
    "\n",
    "Let's compute and visualize various spectral features."
   ]
  },
  {
   "cell_type": "code",
   "execution_count": null,
   "metadata": {},
   "outputs": [],
   "source": [
    "# Compute spectral centroid\n",
    "spectral_centroid = librosa.feature.spectral_centroid(y=audio_data, sr=sample_rate, n_fft=n_fft, hop_length=hop_length)[0]\n",
    "spectral_centroid_times = librosa.times_like(spectral_centroid, sr=sample_rate, hop_length=hop_length)\n",
    "\n",
    "# Compute spectral bandwidth\n",
    "spectral_bandwidth = librosa.feature.spectral_bandwidth(y=audio_data, sr=sample_rate, n_fft=n_fft, hop_length=hop_length)[0]\n",
    "spectral_bandwidth_times = librosa.times_like(spectral_bandwidth, sr=sample_rate, hop_length=hop_length)\n",
    "\n",
    "# Compute spectral contrast\n",
    "spectral_contrast = librosa.feature.spectral_contrast(y=audio_data, sr=sample_rate, n_fft=n_fft, hop_length=hop_length)\n",
    "\n",
    "# Compute spectral flatness\n",
    "spectral_flatness = librosa.feature.spectral_flatness(y=audio_data, n_fft=n_fft, hop_length=hop_length)[0]\n",
    "spectral_flatness_times = librosa.times_like(spectral_flatness, sr=sample_rate, hop_length=hop_length)\n",
    "\n",
    "# Compute spectral rolloff\n",
    "spectral_rolloff = librosa.feature.spectral_rolloff(y=audio_data, sr=sample_rate, n_fft=n_fft, hop_length=hop_length)[0]\n",
    "spectral_rolloff_times = librosa.times_like(spectral_rolloff, sr=sample_rate, hop_length=hop_length)"
   ]
  },
  {
   "cell_type": "code",
   "execution_count": null,
   "metadata": {},
   "outputs": [],
   "source": [
    "# Plot spectral centroid\n",
    "plt.figure(figsize=(14, 5))\n",
    "plt.semilogy(spectral_centroid_times, spectral_centroid)\n",
    "plt.title('Spectral Centroid')\n",
    "plt.xlabel('Time (s)')\n",
    "plt.ylabel('Frequency (Hz)')\n",
    "plt.tight_layout()\n",
    "plt.show()"
   ]
  },
  {
   "cell_type": "code",
   "execution_count": null,
   "metadata": {},
   "outputs": [],
   "source": [
    "# Plot spectral bandwidth\n",
    "plt.figure(figsize=(14, 5))\n",
    "plt.semilogy(spectral_bandwidth_times, spectral_bandwidth)\n",
    "plt.title('Spectral Bandwidth')\n",
    "plt.xlabel('Time (s)')\n",
    "plt.ylabel('Frequency (Hz)')\n",
    "plt.tight_layout()\n",
    "plt.show()"
   ]
  },
  {
   "cell_type": "code",
   "execution_count": null,
   "metadata": {},
   "outputs": [],
   "source": [
    "# Plot spectral contrast\n",
    "plt.figure(figsize=(14, 5))\n",
    "librosa.display.specshow(spectral_contrast, sr=sample_rate, x_axis='time', hop_length=hop_length)\n",
    "plt.colorbar()\n",
    "plt.title('Spectral Contrast')\n",
    "plt.tight_layout()\n",
    "plt.show()"
   ]
  },
  {
   "cell_type": "code",
   "execution_count": null,
   "metadata": {},
   "outputs": [],
   "source": [
    "# Plot spectral flatness\n",
    "plt.figure(figsize=(14, 5))\n",
    "plt.semilogy(spectral_flatness_times, spectral_flatness)\n",
    "plt.title('Spectral Flatness')\n",
    "plt.xlabel('Time (s)')\n",
    "plt.ylabel('Flatness')\n",
    "plt.tight_layout()\n",
    "plt.show()"
   ]
  },
  {
   "cell_type": "code",
   "execution_count": null,
   "metadata": {},
   "outputs": [],
   "source": [
    "# Plot spectral rolloff\n",
    "plt.figure(figsize=(14, 5))\n",
    "plt.semilogy(spectral_rolloff_times, spectral_rolloff)\n",
    "plt.title('Spectral Rolloff')\n",
    "plt.xlabel('Time (s)')\n",
    "plt.ylabel('Frequency (Hz)')\n",
    "plt.tight_layout()\n",
    "plt.show()"
   ]
  },
  {
   "cell_type": "markdown",
   "metadata": {},
   "source": [
    "## 5. Spectral Statistics\n",
    "\n",
    "Let's compute and visualize statistics of the spectral features."
   ]
  },
  {
   "cell_type": "code",
   "execution_count": null,
   "metadata": {},
   "outputs": [],
   "source": [
    "# Compute statistics of spectral features\n",
    "spectral_stats = {\n",
    "    'Centroid': {\n",
    "        'Mean': np.mean(spectral_centroid),\n",
    "        'Std Dev': np.std(spectral_centroid),\n",
    "        'Min': np.min(spectral_centroid),\n",
    "        'Max': np.max(spectral_centroid),\n",
    "        'Median': np.median(spectral_centroid)\n",
    "    },\n",
    "    'Bandwidth': {\n",
    "        'Mean': np.mean(spectral_bandwidth),\n",
    "        'Std Dev': np.std(spectral_bandwidth),\n",
    "        'Min': np.min(spectral_bandwidth),\n",
    "        'Max': np.max(spectral_bandwidth),\n",
    "        'Median': np.median(spectral_bandwidth)\n",
    "    },\n",
    "    'Flatness': {\n",
    "        'Mean': np.mean(spectral_flatness),\n",
    "        'Std Dev': np.std(spectral_flatness),\n",
    "        'Min': np.min(spectral_flatness),\n",
    "        'Max': np.max(spectral_flatness),\n",
    "        'Median': np.median(spectral_flatness)\n",
    "    },\n",
    "    'Rolloff': {\n",
    "        'Mean': np.mean(spectral_rolloff),\n",
    "        'Std Dev': np.std(spectral_rolloff),\n",
    "        'Min': np.min(spectral_rolloff),\n",
    "        'Max': np.max(spectral_rolloff),\n",
    "        'Median': np.median(spectral_rolloff)\n",
    "    }\n",
    "}\n",
    "\n",
    "# Display statistics\n",
    "for feature, stats in spectral_stats.items():\n",
    "    print(f\"\\n{feature} Statistics:\")\n",
    "    for stat, value in stats.items():\n",
    "        print(f\"{stat}: {value:.2f}\")"
   ]
  },
  {
   "cell_type": "code",
   "execution_count": null,
   "metadata": {},
   "outputs": [],
   "source": [
    "# Create a DataFrame for visualization\n",
    "stats_df = pd.DataFrame({\n",
    "    'Centroid': spectral_centroid,\n",
    "    'Bandwidth': spectral_bandwidth,\n",
    "    'Flatness': spectral_flatness,\n",
    "    'Rolloff': spectral_rolloff\n",
    "})\n",
    "\n",
    "# Plot distributions of spectral features\n",
    "plt.figure(figsize=(14, 10))\n",
    "for i, column in enumerate(stats_df.columns):\n",
    "    plt.subplot(2, 2, i+1)\n",
    "    sns.histplot(stats_df[column], kde=True)\n",
    "    plt.title(f'{column} Distribution')\n",
    "plt.tight_layout()\n",
    "plt.show()"
   ]
  },
  {
   "cell_type": "markdown",
   "metadata": {},
   "source": [
    "## 6. Power Spectrum\n",
    "\n",
    "Let's compute and visualize the power spectrum of the audio signal."
   ]
  },
  {
   "cell_type": "code",
   "execution_count": null,
   "metadata": {},
   "outputs": [],
   "source": [
    "# Compute power spectrum\n",
    "fft_result = np.fft.rfft(audio_data)\n",
    "fft_magnitude = np.abs(fft_result)\n",
    "fft_power = fft_magnitude ** 2\n",
    "fft_frequencies = np.fft.rfftfreq(len(audio_data), 1/sample_rate)\n",
    "\n",
    "# Plot power spectrum\n",
    "plt.figure(figsize=(14, 5))\n",
    "plt.semilogy(fft_frequencies, fft_power)\n",
    "plt.title('Power Spectrum')\n",
    "plt.xlabel('Frequency (Hz)')\n",
    "plt.ylabel('Power')\n",
    "plt.xlim([0, sample_rate/2])\n",
    "plt.tight_layout()\n",
    "plt.show()"
   ]
  },
  {
   "cell_type": "markdown",
   "metadata": {},
   "source": [
    "## 7. Frequency Bands Analysis\n",
    "\n",
    "Let's analyze the energy in different frequency bands."
   ]
  },
  {
   "cell_type": "code",
   "execution_count": null,
   "metadata": {},
   "outputs": [],
   "source": [
    "# Define frequency bands\n",
    "bands = {\n",
    "    'Sub-bass': (20, 60),\n",
    "    'Bass': (60, 250),\n",
    "    'Low-mids': (250, 500),\n",
    "    'Mids': (500, 2000),\n",
    "    'High-mids': (2000, 4000),\n",
    "    'Presence': (4000, 6000),\n",
    "    'Brilliance': (6000, 20000)\n",
    "}\n",
    "\n",
    "# Compute energy in each band\n",
    "band_energies = {}\n",
    "for band_name, (low_freq, high_freq) in bands.items():\n",
    "    # Find indices corresponding to the frequency range\n",
    "    indices = np.where((fft_frequencies >= low_freq) & (fft_frequencies <= high_freq))[0]\n",
    "    # Compute energy in the band\n",
    "    band_energies[band_name] = np.sum(fft_power[indices])\n",
    "\n",
    "# Normalize energies\n",
    "total_energy = sum(band_energies.values())\n",
    "normalized_band_energies = {band: energy / total_energy for band, energy in band_energies.items()}\n",
    "\n",
    "# Plot band energies\n",
    "plt.figure(figsize=(14, 5))\n",
    "plt.bar(normalized_band_energies.keys(), normalized_band_energies.values())\n",
    "plt.title('Energy Distribution Across Frequency Bands')\n",
    "plt.xlabel('Frequency Band')\n",
    "plt.ylabel('Normalized Energy')\n",
    "plt.xticks(rotation=45)\n",
    "plt.tight_layout()\n",
    "plt.show()"
   ]
  },
  {
   "cell_type": "markdown",
   "metadata": {},
   "source": [
    "## 8. Using the Package's Frequency Domain Analysis\n",
    "\n",
    "Let's use the package's built-in frequency domain analysis function."
   ]
  },
  {
   "cell_type": "code",
   "execution_count": null,
   "metadata": {},
   "outputs": [],
   "source": [
    "# Use the package's frequency domain analysis function\n",
    "frequency_analysis_results = analyze_frequency_domain(\n",
    "    audio_data, \n",
    "    sample_rate, \n",
    "    title_prefix=\"Sample Audio\"\n",
    ")\n",
    "\n",
    "# Display the figures\n",
    "for fig_name, fig in frequency_analysis_results['figures'].items():\n",
    "    plt.figure(fig.number)\n",
    "    plt.tight_layout()\n",
    "    plt.show()"
   ]
  },
  {
   "cell_type": "markdown",
   "metadata": {},
   "source": [
    "## Conclusion\n",
    "\n",
    "In this notebook, we've performed a comprehensive frequency domain analysis of an audio file. We've examined its spectral content using various transforms and features, including STFT, Mel spectrogram, chromagram, and various spectral features like centroid, bandwidth, contrast, flatness, and rolloff. We've also analyzed the energy distribution across different frequency bands.\n",
    "\n",
    "This analysis provides valuable insights into the frequency characteristics of the audio data, which can be useful for understanding the spectral content of speech signals and for feature extraction in speech recognition tasks."
   ]
  }
 ],
 "metadata": {
  "kernelspec": {
   "display_name": "Python 3",
   "language": "python",
   "name": "python3"
  },
  "language_info": {
   "codemirror_mode": {
    "name": "ipython",
    "version": 3
   },
   "file_extension": ".py",
   "mimetype": "text/x-python",
   "name": "python",
   "nbconvert_exporter": "python",
   "pygments_lexer": "ipython3",
   "version": "3.8.10"
  }
 },
 "nbformat": 4,
 "nbformat_minor": 4
}
